{
  "cells": [
    {
      "cell_type": "markdown",
      "metadata": {
        "id": "view-in-github",
        "colab_type": "text"
      },
      "source": [
        "<a href=\"https://colab.research.google.com/github/ulysseskee/cp5105/blob/main/CP5105.ipynb\" target=\"_parent\"><img src=\"https://colab.research.google.com/assets/colab-badge.svg\" alt=\"Open In Colab\"/></a>"
      ]
    },
    {
      "cell_type": "code",
      "source": [
        "from google.colab import drive\n",
        "drive.mount('/content/drive')"
      ],
      "metadata": {
        "colab": {
          "base_uri": "https://localhost:8080/"
        },
        "id": "bbJ9fEtYPQ0-",
        "outputId": "43e1d955-0ae0-426d-83f7-85500a6308e7"
      },
      "execution_count": 1,
      "outputs": [
        {
          "output_type": "stream",
          "name": "stdout",
          "text": [
            "Mounted at /content/drive\n"
          ]
        }
      ]
    },
    {
      "cell_type": "code",
      "source": [
        "%cd /content/drive/MyDrive/Academics/NUS/CP5105/project"
      ],
      "metadata": {
        "colab": {
          "base_uri": "https://localhost:8080/"
        },
        "id": "QTfKpEAfPoNY",
        "outputId": "3b2566b2-d74d-4884-9fab-8659dee0a25c"
      },
      "execution_count": 5,
      "outputs": [
        {
          "output_type": "stream",
          "name": "stdout",
          "text": [
            "/content/drive/MyDrive/Academics/NUS/CP5105/project\n"
          ]
        }
      ]
    },
    {
      "cell_type": "code",
      "execution_count": null,
      "metadata": {
        "colab": {
          "base_uri": "https://localhost:8080/"
        },
        "id": "araVU-uL8KZY",
        "outputId": "702eefc7-2ac5-482c-8a13-ab8f23f5d1e1"
      },
      "outputs": [
        {
          "name": "stdout",
          "output_type": "stream",
          "text": [
            "Collecting blankly\n",
            "  Downloading blankly-1.16.5b0-py3-none-any.whl (214 kB)\n",
            "\u001b[K     |████████████████████████████████| 214 kB 4.1 MB/s \n",
            "\u001b[?25hCollecting newtulipy>=0.4.6\n",
            "  Downloading newtulipy-0.4.6-cp37-cp37m-manylinux2010_x86_64.whl (278 kB)\n",
            "\u001b[K     |████████████████████████████████| 278 kB 62.2 MB/s \n",
            "\u001b[?25hCollecting dateparser>=1.1.0\n",
            "  Downloading dateparser-1.1.0-py2.py3-none-any.whl (288 kB)\n",
            "\u001b[K     |████████████████████████████████| 288 kB 45.8 MB/s \n",
            "\u001b[?25hCollecting alpaca-trade-api>=1.4.2\n",
            "  Downloading alpaca_trade_api-1.5.1-py3-none-any.whl (36 kB)\n",
            "Collecting requests>=2.26.0\n",
            "  Downloading requests-2.27.1-py2.py3-none-any.whl (63 kB)\n",
            "\u001b[K     |████████████████████████████████| 63 kB 1.5 MB/s \n",
            "\u001b[?25hRequirement already satisfied: pandas>=1.1.5 in /usr/local/lib/python3.7/dist-packages (from blankly) (1.3.5)\n",
            "Collecting websocket-client>=1.2.1\n",
            "  Downloading websocket_client-1.3.1-py3-none-any.whl (54 kB)\n",
            "\u001b[K     |████████████████████████████████| 54 kB 2.4 MB/s \n",
            "\u001b[?25hCollecting bokeh>=2.4.2\n",
            "  Downloading bokeh-2.4.2-py3-none-any.whl (18.5 MB)\n",
            "\u001b[K     |████████████████████████████████| 18.5 MB 727 kB/s \n",
            "\u001b[?25hCollecting python-binance>=1.0.15\n",
            "  Downloading python_binance-1.0.15-py2.py3-none-any.whl (63 kB)\n",
            "\u001b[K     |████████████████████████████████| 63 kB 2.3 MB/s \n",
            "\u001b[?25hRequirement already satisfied: numpy>=1.21.4 in /usr/local/lib/python3.7/dist-packages (from blankly) (1.21.5)\n",
            "Collecting pandas-market-calendars>=3.2\n",
            "  Downloading pandas_market_calendars-3.4-py3-none-any.whl (89 kB)\n",
            "\u001b[K     |████████████████████████████████| 89 kB 8.4 MB/s \n",
            "\u001b[?25hCollecting aiohttp==3.7.4\n",
            "  Downloading aiohttp-3.7.4-cp37-cp37m-manylinux2014_x86_64.whl (1.3 MB)\n",
            "\u001b[K     |████████████████████████████████| 1.3 MB 50.7 MB/s \n",
            "\u001b[?25hCollecting PyYAML==6.0\n",
            "  Downloading PyYAML-6.0-cp37-cp37m-manylinux_2_5_x86_64.manylinux1_x86_64.manylinux_2_12_x86_64.manylinux2010_x86_64.whl (596 kB)\n",
            "\u001b[K     |████████████████████████████████| 596 kB 42.3 MB/s \n",
            "\u001b[?25hRequirement already satisfied: urllib3<2,>1.24 in /usr/local/lib/python3.7/dist-packages (from alpaca-trade-api>=1.4.2->blankly) (1.24.3)\n",
            "Collecting websockets<11,>=8.0\n",
            "  Downloading websockets-10.2-cp37-cp37m-manylinux_2_5_x86_64.manylinux1_x86_64.manylinux_2_12_x86_64.manylinux2010_x86_64.whl (111 kB)\n",
            "\u001b[K     |████████████████████████████████| 111 kB 55.4 MB/s \n",
            "\u001b[?25hCollecting deprecation==2.1.0\n",
            "  Downloading deprecation-2.1.0-py2.py3-none-any.whl (11 kB)\n",
            "Collecting msgpack==1.0.2\n",
            "  Downloading msgpack-1.0.2-cp37-cp37m-manylinux1_x86_64.whl (273 kB)\n",
            "\u001b[K     |████████████████████████████████| 273 kB 54.1 MB/s \n",
            "\u001b[?25hCollecting async-timeout<4.0,>=3.0\n",
            "  Downloading async_timeout-3.0.1-py3-none-any.whl (8.2 kB)\n",
            "Requirement already satisfied: typing-extensions>=3.6.5 in /usr/local/lib/python3.7/dist-packages (from aiohttp==3.7.4->alpaca-trade-api>=1.4.2->blankly) (3.10.0.2)\n",
            "Requirement already satisfied: attrs>=17.3.0 in /usr/local/lib/python3.7/dist-packages (from aiohttp==3.7.4->alpaca-trade-api>=1.4.2->blankly) (21.4.0)\n",
            "Collecting yarl<2.0,>=1.0\n",
            "  Downloading yarl-1.7.2-cp37-cp37m-manylinux_2_5_x86_64.manylinux1_x86_64.manylinux_2_12_x86_64.manylinux2010_x86_64.whl (271 kB)\n",
            "\u001b[K     |████████████████████████████████| 271 kB 57.6 MB/s \n",
            "\u001b[?25hCollecting multidict<7.0,>=4.5\n",
            "  Downloading multidict-6.0.2-cp37-cp37m-manylinux_2_17_x86_64.manylinux2014_x86_64.whl (94 kB)\n",
            "\u001b[K     |████████████████████████████████| 94 kB 2.7 MB/s \n",
            "\u001b[?25hRequirement already satisfied: chardet<4.0,>=2.0 in /usr/local/lib/python3.7/dist-packages (from aiohttp==3.7.4->alpaca-trade-api>=1.4.2->blankly) (3.0.4)\n",
            "Requirement already satisfied: packaging in /usr/local/lib/python3.7/dist-packages (from deprecation==2.1.0->alpaca-trade-api>=1.4.2->blankly) (21.3)\n",
            "Requirement already satisfied: Jinja2>=2.9 in /usr/local/lib/python3.7/dist-packages (from bokeh>=2.4.2->blankly) (2.11.3)\n",
            "Requirement already satisfied: tornado>=5.1 in /usr/local/lib/python3.7/dist-packages (from bokeh>=2.4.2->blankly) (5.1.1)\n",
            "Requirement already satisfied: pillow>=7.1.0 in /usr/local/lib/python3.7/dist-packages (from bokeh>=2.4.2->blankly) (7.1.2)\n",
            "Requirement already satisfied: regex!=2019.02.19,!=2021.8.27 in /usr/local/lib/python3.7/dist-packages (from dateparser>=1.1.0->blankly) (2019.12.20)\n",
            "Requirement already satisfied: pytz in /usr/local/lib/python3.7/dist-packages (from dateparser>=1.1.0->blankly) (2018.9)\n",
            "Requirement already satisfied: python-dateutil in /usr/local/lib/python3.7/dist-packages (from dateparser>=1.1.0->blankly) (2.8.2)\n",
            "Requirement already satisfied: tzlocal in /usr/local/lib/python3.7/dist-packages (from dateparser>=1.1.0->blankly) (1.5.1)\n",
            "Requirement already satisfied: MarkupSafe>=0.23 in /usr/local/lib/python3.7/dist-packages (from Jinja2>=2.9->bokeh>=2.4.2->blankly) (2.0.1)\n",
            "Requirement already satisfied: pyparsing!=3.0.5,>=2.0.2 in /usr/local/lib/python3.7/dist-packages (from packaging->deprecation==2.1.0->alpaca-trade-api>=1.4.2->blankly) (3.0.7)\n",
            "Collecting exchange-calendars>=3.3\n",
            "  Downloading exchange_calendars-3.6.tar.gz (150 kB)\n",
            "\u001b[K     |████████████████████████████████| 150 kB 55.9 MB/s \n",
            "\u001b[?25hCollecting pyluach\n",
            "  Downloading pyluach-1.4.0-py3-none-any.whl (18 kB)\n",
            "Requirement already satisfied: toolz in /usr/local/lib/python3.7/dist-packages (from exchange-calendars>=3.3->pandas-market-calendars>=3.2->blankly) (0.11.2)\n",
            "Requirement already satisfied: korean_lunar_calendar in /usr/local/lib/python3.7/dist-packages (from exchange-calendars>=3.3->pandas-market-calendars>=3.2->blankly) (0.2.1)\n",
            "Collecting ujson\n",
            "  Downloading ujson-5.1.0-cp37-cp37m-manylinux_2_17_x86_64.manylinux2014_x86_64.whl (43 kB)\n",
            "\u001b[K     |████████████████████████████████| 43 kB 2.1 MB/s \n",
            "\u001b[?25hRequirement already satisfied: six in /usr/local/lib/python3.7/dist-packages (from python-binance>=1.0.15->blankly) (1.15.0)\n",
            "Collecting websockets<11,>=8.0\n",
            "  Downloading websockets-9.1-cp37-cp37m-manylinux2010_x86_64.whl (103 kB)\n",
            "\u001b[K     |████████████████████████████████| 103 kB 56.5 MB/s \n",
            "\u001b[?25hRequirement already satisfied: certifi>=2017.4.17 in /usr/local/lib/python3.7/dist-packages (from requests>=2.26.0->blankly) (2021.10.8)\n",
            "Requirement already satisfied: charset-normalizer~=2.0.0 in /usr/local/lib/python3.7/dist-packages (from requests>=2.26.0->blankly) (2.0.12)\n",
            "Requirement already satisfied: idna<4,>=2.5 in /usr/local/lib/python3.7/dist-packages (from requests>=2.26.0->blankly) (2.10)\n",
            "Building wheels for collected packages: exchange-calendars\n",
            "  Building wheel for exchange-calendars (setup.py) ... \u001b[?25l\u001b[?25hdone\n",
            "  Created wheel for exchange-calendars: filename=exchange_calendars-3.6-py3-none-any.whl size=180021 sha256=cb8ecb019a222accba09d03a711822bf506258b47fab8413b83bc703e01698a4\n",
            "  Stored in directory: /root/.cache/pip/wheels/d5/5a/ba/61e3be839d3b28ab80e055fb7cb72f22ced9b56673c84d2d9b\n",
            "Successfully built exchange-calendars\n",
            "Installing collected packages: multidict, yarl, pyluach, async-timeout, websockets, websocket-client, ujson, requests, PyYAML, msgpack, exchange-calendars, deprecation, dateparser, aiohttp, python-binance, pandas-market-calendars, newtulipy, bokeh, alpaca-trade-api, blankly\n",
            "  Attempting uninstall: requests\n",
            "    Found existing installation: requests 2.23.0\n",
            "    Uninstalling requests-2.23.0:\n",
            "      Successfully uninstalled requests-2.23.0\n",
            "  Attempting uninstall: PyYAML\n",
            "    Found existing installation: PyYAML 3.13\n",
            "    Uninstalling PyYAML-3.13:\n",
            "      Successfully uninstalled PyYAML-3.13\n",
            "  Attempting uninstall: msgpack\n",
            "    Found existing installation: msgpack 1.0.3\n",
            "    Uninstalling msgpack-1.0.3:\n",
            "      Successfully uninstalled msgpack-1.0.3\n",
            "  Attempting uninstall: bokeh\n",
            "    Found existing installation: bokeh 2.3.3\n",
            "    Uninstalling bokeh-2.3.3:\n",
            "      Successfully uninstalled bokeh-2.3.3\n",
            "\u001b[31mERROR: pip's dependency resolver does not currently take into account all the packages that are installed. This behaviour is the source of the following dependency conflicts.\n",
            "panel 0.12.1 requires bokeh<2.4.0,>=2.3.0, but you have bokeh 2.4.2 which is incompatible.\n",
            "google-colab 1.0.0 requires requests~=2.23.0, but you have requests 2.27.1 which is incompatible.\n",
            "datascience 0.10.6 requires folium==0.2.1, but you have folium 0.8.3 which is incompatible.\u001b[0m\n",
            "Successfully installed PyYAML-6.0 aiohttp-3.7.4 alpaca-trade-api-1.5.1 async-timeout-3.0.1 blankly-1.16.5b0 bokeh-2.4.2 dateparser-1.1.0 deprecation-2.1.0 exchange-calendars-3.6 msgpack-1.0.2 multidict-6.0.2 newtulipy-0.4.6 pandas-market-calendars-3.4 pyluach-1.4.0 python-binance-1.0.15 requests-2.27.1 ujson-5.1.0 websocket-client-1.3.1 websockets-9.1 yarl-1.7.2\n"
          ]
        }
      ],
      "source": [
        "!pip install blankly"
      ]
    },
    {
      "cell_type": "code",
      "execution_count": null,
      "metadata": {
        "colab": {
          "base_uri": "https://localhost:8080/"
        },
        "id": "4aBqEcdK8Xge",
        "outputId": "635d6f83-66bd-4f5e-805c-cbaf3452acc3"
      },
      "outputs": [
        {
          "name": "stdout",
          "output_type": "stream",
          "text": [
            "Initializing...\n",
            "\n",
            "██████╗ ██╗      █████╗ ███╗   ██╗██╗  ██╗██╗  ██╗   ██╗    ███████╗██╗███╗   ██╗ █████╗ ███╗   ██╗ ██████╗███████╗\n",
            "██╔══██╗██║     ██╔══██╗████╗  ██║██║ ██╔╝██║  ╚██╗ ██╔╝    ██╔════╝██║████╗  ██║██╔══██╗████╗  ██║██╔════╝██╔════╝\n",
            "██████╔╝██║     ███████║██╔██╗ ██║█████╔╝ ██║   ╚████╔╝     █████╗  ██║██╔██╗ ██║███████║██╔██╗ ██║██║     █████╗  \n",
            "██╔══██╗██║     ██╔══██║██║╚██╗██║██╔═██╗ ██║    ╚██╔╝      ██╔══╝  ██║██║╚██╗██║██╔══██║██║╚██╗██║██║     ██╔══╝  \n",
            "██████╔╝███████╗██║  ██║██║ ╚████║██║  ██╗███████╗██║       ██║     ██║██║ ╚████║██║  ██║██║ ╚████║╚██████╗███████╗\n",
            "╚═════╝ ╚══════╝╚═╝  ╚═╝╚═╝  ╚═══╝╚═╝  ╚═╝╚══════╝╚═╝       ╚═╝     ╚═╝╚═╝  ╚═══╝╚═╝  ╚═╝╚═╝  ╚═══╝ ╚═════╝╚══════╝\n",
            "\n",
            "Downloading keys template...\n",
            "Downloading settings defaults...\n",
            "Downloading backtest defaults...\n",
            "Downloading RSI bot example...\n",
            "Writing deployment defaults...\n",
            "Detecting python version...\n",
            "\u001b[96m\u001b[1mFound python version: 3.7\u001b[0m\n",
            "Writing requirements.txt defaults...\n",
            "\u001b[92m\u001b[4mSuccess!\u001b[0m\n"
          ]
        }
      ],
      "source": [
        "!blankly init"
      ]
    },
    {
      "cell_type": "code",
      "execution_count": null,
      "metadata": {
        "colab": {
          "base_uri": "https://localhost:8080/"
        },
        "id": "OpvokupJGwH8",
        "outputId": "d4eafe4a-60bf-401c-caff-8ec82a8218b8"
      },
      "outputs": [
        {
          "name": "stdout",
          "output_type": "stream",
          "text": [
            "mv: failed to access '/project_blankly': No such file or directory\n"
          ]
        }
      ],
      "source": [
        "!mkdir project_blankly\n",
        "!mv -t /project_blankly backtest.json blankly.json bot.py keys.json requirements.txt settings.json"
      ]
    },
    {
      "cell_type": "code",
      "execution_count": null,
      "metadata": {
        "colab": {
          "base_uri": "https://localhost:8080/"
        },
        "id": "6KkytYWIKRRY",
        "outputId": "3b8bfe46-e56b-436d-ff0c-099bab8dbff9"
      },
      "outputs": [
        {
          "name": "stdout",
          "output_type": "stream",
          "text": [
            "backtest.json  bot.py\t  mkdir\t\t   requirements.txt  settings.json\n",
            "blankly.json   keys.json  project_blankly  sample_data\n"
          ]
        }
      ],
      "source": [
        "!ls\n"
      ]
    },
    {
      "cell_type": "code",
      "execution_count": null,
      "metadata": {
        "id": "XAyvavJJKSwx"
      },
      "outputs": [],
      "source": [
        "!mv -t ./project_blankly backtest.json blankly.json bot.py keys.json requirements.txt settings.json"
      ]
    },
    {
      "cell_type": "code",
      "execution_count": null,
      "metadata": {
        "colab": {
          "base_uri": "https://localhost:8080/"
        },
        "id": "4CUe7tVHOz2h",
        "outputId": "084584b6-2546-4c0c-d9da-cc70c5c714c6"
      },
      "outputs": [
        {
          "name": "stdout",
          "output_type": "stream",
          "text": [
            "/content/project_blankly\n"
          ]
        }
      ],
      "source": [
        "%cd project_blankly/"
      ]
    },
    {
      "cell_type": "code",
      "execution_count": null,
      "metadata": {
        "id": "hJzqyEoPPoBn"
      },
      "outputs": [],
      "source": [
        "!touch rsi_bot.py"
      ]
    },
    {
      "cell_type": "code",
      "execution_count": null,
      "metadata": {
        "colab": {
          "base_uri": "https://localhost:8080/"
        },
        "id": "qcYKvpoePqqb",
        "outputId": "14a93f06-e575-4a3d-cca4-fc06f2d042a6"
      },
      "outputs": [
        {
          "name": "stdout",
          "output_type": "stream",
          "text": [
            "project_blankly  rsi_bot.py  sample_data\n"
          ]
        }
      ],
      "source": [
        "!ls\n"
      ]
    },
    {
      "cell_type": "code",
      "execution_count": null,
      "metadata": {
        "id": "9RCtxhcrP6eM"
      },
      "outputs": [],
      "source": [
        "!cd project_blankly/"
      ]
    },
    {
      "cell_type": "code",
      "execution_count": null,
      "metadata": {
        "colab": {
          "base_uri": "https://localhost:8080/"
        },
        "id": "QeRiyU41R23W",
        "outputId": "775364b4-6491-4c3d-985c-4c7bb69fcd6f"
      },
      "outputs": [
        {
          "name": "stdout",
          "output_type": "stream",
          "text": [
            "/content\n"
          ]
        }
      ],
      "source": [
        "!pwd"
      ]
    },
    {
      "cell_type": "code",
      "execution_count": null,
      "metadata": {
        "colab": {
          "base_uri": "https://localhost:8080/"
        },
        "id": "8ELJYnw5RpTc",
        "outputId": "9d31e694-b9ce-4342-9984-64fcb82b8663"
      },
      "outputs": [
        {
          "name": "stdout",
          "output_type": "stream",
          "text": [
            "INFO: No portfolio name to load specified, defaulting to the first in the file: (another cool portfolio). This is fine if there is only one portfolio in use.\n",
            "\n",
            "Initializing...\n",
            "\n",
            "Backtesting...\n",
            "Progress: [##########] 100% Done...\n",
            "\n",
            "Historical Dataframes: \n",
            "Account History: \n",
            "          USD  ...  Account Value (USD)\n",
            "0    10000.00  ...             10000.00\n",
            "1    10000.00  ...             10000.00\n",
            "2    10000.00  ...             10000.00\n",
            "3    10000.00  ...             10000.00\n",
            "4    10000.00  ...             10000.00\n",
            "..        ...  ...                  ...\n",
            "722    171.21  ...             14513.13\n",
            "723    171.21  ...             14328.81\n",
            "724    171.21  ...             14580.33\n",
            "725    171.21  ...             14375.37\n",
            "726    171.21  ...             14084.49\n",
            "\n",
            "[727 rows x 4 columns]\n",
            "Account Returns: \n",
            "             time     value\n",
            "0    1.583726e+09       NaN\n",
            "1    1.583813e+09  0.000000\n",
            "2    1.583899e+09  0.000000\n",
            "3    1.583986e+09  0.000000\n",
            "4    1.584072e+09  0.000000\n",
            "..            ...       ...\n",
            "721  1.646021e+09  0.000000\n",
            "722  1.646107e+09  0.000000\n",
            "723  1.646194e+09 -0.012700\n",
            "724  1.646280e+09  0.017553\n",
            "725  1.646366e+09 -0.014057\n",
            "\n",
            "[726 rows x 2 columns]\n",
            "Resampled Account Value: \n",
            "             time     value\n",
            "0    1.583726e+09  10000.00\n",
            "1    1.583813e+09  10000.00\n",
            "2    1.583899e+09  10000.00\n",
            "3    1.583986e+09  10000.00\n",
            "4    1.584072e+09  10000.00\n",
            "..            ...       ...\n",
            "721  1.646021e+09  14513.13\n",
            "722  1.646107e+09  14513.13\n",
            "723  1.646194e+09  14328.81\n",
            "724  1.646280e+09  14580.33\n",
            "725  1.646366e+09  14375.37\n",
            "\n",
            "[726 rows x 2 columns]\n",
            "Blankly Metrics: \n",
            "Compound Annual Growth Rate (%):   20.0%\n",
            "Cumulative Returns (%):            44.0%\n",
            "Max Drawdown (%):                  11.0%\n",
            "Variance (%):                      2.76%\n",
            "Sortino Ratio:                     0.76\n",
            "Sharpe Ratio:                      0.84\n",
            "Calmar Ratio:                      1.24\n",
            "Volatility:                        0.17\n",
            "Value-at-Risk:                     191.08\n",
            "Conditional Value-at-Risk:         9.39\n",
            "Risk Free Return Rate:             0.0\n",
            "Resampled Time:                    86400.0\n",
            "\n"
          ]
        }
      ],
      "source": [
        "!python rsi_bot.py"
      ]
    },
    {
      "cell_type": "code",
      "execution_count": null,
      "metadata": {
        "id": "wW2Ay0i8SJqb"
      },
      "outputs": [],
      "source": [
        ""
      ]
    },
    {
      "cell_type": "code",
      "execution_count": null,
      "metadata": {
        "colab": {
          "base_uri": "https://localhost:8080/"
        },
        "id": "RRYn2ZzVeOp9",
        "outputId": "5f5f7bbe-1790-4de1-a296-1f7922f61259"
      },
      "outputs": [
        {
          "name": "stdout",
          "output_type": "stream",
          "text": [
            "/content/project_blankly\n"
          ]
        }
      ],
      "source": [
        "!pwd"
      ]
    },
    {
      "cell_type": "code",
      "execution_count": null,
      "metadata": {
        "colab": {
          "background_save": true,
          "base_uri": "https://localhost:8080/"
        },
        "id": "eTMJi4qmePiL",
        "outputId": "3ad8d8c0-98d7-423e-ae7b-bbbdcde2072e"
      },
      "outputs": [
        {
          "name": "stdout",
          "output_type": "stream",
          "text": [
            "INFO: No portfolio name to load specified, defaulting to the first in the file: (another cool portfolio). This is fine if there is only one portfolio in use.\n"
          ]
        }
      ],
      "source": [
        "!python rsi_bot.py"
      ]
    },
    {
      "cell_type": "code",
      "execution_count": null,
      "metadata": {
        "id": "_wywj7vbeTe_"
      },
      "outputs": [],
      "source": [
        ""
      ]
    }
  ],
  "metadata": {
    "colab": {
      "collapsed_sections": [],
      "name": "CP5105.ipynb",
      "provenance": [],
      "authorship_tag": "ABX9TyMPhOEwPXjCtTx2BknjwTS0",
      "include_colab_link": true
    },
    "kernelspec": {
      "display_name": "Python 3",
      "name": "python3"
    },
    "language_info": {
      "name": "python"
    }
  },
  "nbformat": 4,
  "nbformat_minor": 0
}